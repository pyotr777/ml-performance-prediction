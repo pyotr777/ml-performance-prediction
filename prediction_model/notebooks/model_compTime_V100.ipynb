{
 "cells": [
  {
   "cell_type": "markdown",
   "metadata": {},
   "source": [
    "## Small model to predict compute time from parameters of dense/convolutional layer"
   ]
  },
  {
   "cell_type": "code",
   "execution_count": 1,
   "metadata": {},
   "outputs": [],
   "source": [
    "import os\n",
    "import sys\n",
    "import pandas as pd\n",
    "import numpy as np\n",
    "import tensorflow as tf\n",
    "import matplotlib\n",
    "import matplotlib.pyplot as plt\n",
    "from sklearn import linear_model\n",
    "from sklearn.externals import joblib\n",
    "import shutil"
   ]
  },
  {
   "cell_type": "code",
   "execution_count": 2,
   "metadata": {},
   "outputs": [],
   "source": [
    "# Root directory of the project\n",
    "ROOT_DIR = os.path.abspath(\"../../\")\n",
    "sys.path.append(ROOT_DIR)  # To find local version of the library"
   ]
  },
  {
   "cell_type": "code",
   "execution_count": 3,
   "metadata": {},
   "outputs": [],
   "source": [
    "from prediction_model.model import Model\n",
    "from prediction_model import dataprep"
   ]
  },
  {
   "cell_type": "markdown",
   "metadata": {},
   "source": [
    "### Import data as pd dataframe\n",
    "#### Data should contain parameters and max/median/min/std of time"
   ]
  },
  {
   "cell_type": "code",
   "execution_count": 30,
   "metadata": {},
   "outputs": [],
   "source": [
    "# model_name = 'all'\n",
    "model_name = \"no_V100\"\n",
    "test_data  = \"V100\"\n",
    "\n",
    "MODEL_PATH = os.path.join(ROOT_DIR, 'prediction_model/models/%s/' %model_name)\n",
    "DATA_PATH = os.path.join(ROOT_DIR, 'prediction_model/data')"
   ]
  },
  {
   "cell_type": "code",
   "execution_count": 5,
   "metadata": {},
   "outputs": [],
   "source": [
    "try:\n",
    "    MODEL_PATH\n",
    "except:\n",
    "    pass \n",
    "\n",
    "useData = 'Conv' # 'Dense' or 'Conv'\n",
    "# useData = 'Dense'"
   ]
  },
  {
   "cell_type": "code",
   "execution_count": 6,
   "metadata": {},
   "outputs": [],
   "source": [
    "if useData == 'Conv':\n",
    "    df = pd.read_pickle(os.path.join(DATA_PATH,'Data_convolution_%s.pkl' %model_name))\n",
    "    scaler_filename = os.path.join(MODEL_PATH,'scaler_Conv.save')\n",
    "elif useData == 'Dense':\n",
    "    df = pd.read_pickle(os.path.join(DATA_PATH,'Data_dense_%s.pkl' %model_name))\n",
    "    scaler_filename = os.path.join(MODEL_PATH,'scaler_Dense.save')\n",
    "else:\n",
    "    print('useData must be Dense or Conv, currently is %s' %useData)"
   ]
  },
  {
   "cell_type": "code",
   "execution_count": 33,
   "metadata": {},
   "outputs": [
    {
     "name": "stdout",
     "output_type": "stream",
     "text": [
      "Reading V100 data from /home/keras/host/prediction_model/data/Data_convolution_V100.pkl\n"
     ]
    },
    {
     "data": {
      "text/html": [
       "<div>\n",
       "<style scoped>\n",
       "    .dataframe tbody tr th:only-of-type {\n",
       "        vertical-align: middle;\n",
       "    }\n",
       "\n",
       "    .dataframe tbody tr th {\n",
       "        vertical-align: top;\n",
       "    }\n",
       "\n",
       "    .dataframe thead th {\n",
       "        text-align: right;\n",
       "    }\n",
       "</style>\n",
       "<table border=\"1\" class=\"dataframe\">\n",
       "  <thead>\n",
       "    <tr style=\"text-align: right;\">\n",
       "      <th></th>\n",
       "      <th>batchsize</th>\n",
       "      <th>channels_in</th>\n",
       "      <th>channels_out</th>\n",
       "      <th>gpu</th>\n",
       "      <th>kernelsize</th>\n",
       "      <th>matsize</th>\n",
       "      <th>padding</th>\n",
       "      <th>precision</th>\n",
       "      <th>strides</th>\n",
       "      <th>timeUsed_max</th>\n",
       "      <th>...</th>\n",
       "      <th>opt_Adagrad</th>\n",
       "      <th>opt_Adam</th>\n",
       "      <th>opt_Momentum</th>\n",
       "      <th>opt_None</th>\n",
       "      <th>opt_RMSProp</th>\n",
       "      <th>opt_SGD</th>\n",
       "      <th>act_None</th>\n",
       "      <th>act_relu</th>\n",
       "      <th>act_sigmoid</th>\n",
       "      <th>act_tanh</th>\n",
       "    </tr>\n",
       "  </thead>\n",
       "  <tbody>\n",
       "    <tr>\n",
       "      <th>0</th>\n",
       "      <td>28</td>\n",
       "      <td>4</td>\n",
       "      <td>42</td>\n",
       "      <td>0</td>\n",
       "      <td>2</td>\n",
       "      <td>224</td>\n",
       "      <td>1</td>\n",
       "      <td>32</td>\n",
       "      <td>2</td>\n",
       "      <td>2.965198</td>\n",
       "      <td>...</td>\n",
       "      <td>0</td>\n",
       "      <td>0</td>\n",
       "      <td>0</td>\n",
       "      <td>0</td>\n",
       "      <td>0</td>\n",
       "      <td>1</td>\n",
       "      <td>1</td>\n",
       "      <td>0</td>\n",
       "      <td>0</td>\n",
       "      <td>0</td>\n",
       "    </tr>\n",
       "    <tr>\n",
       "      <th>1</th>\n",
       "      <td>49</td>\n",
       "      <td>2224</td>\n",
       "      <td>2507</td>\n",
       "      <td>0</td>\n",
       "      <td>2</td>\n",
       "      <td>3</td>\n",
       "      <td>1</td>\n",
       "      <td>32</td>\n",
       "      <td>3</td>\n",
       "      <td>1.815758</td>\n",
       "      <td>...</td>\n",
       "      <td>0</td>\n",
       "      <td>0</td>\n",
       "      <td>0</td>\n",
       "      <td>1</td>\n",
       "      <td>0</td>\n",
       "      <td>0</td>\n",
       "      <td>0</td>\n",
       "      <td>0</td>\n",
       "      <td>1</td>\n",
       "      <td>0</td>\n",
       "    </tr>\n",
       "    <tr>\n",
       "      <th>2</th>\n",
       "      <td>28</td>\n",
       "      <td>51</td>\n",
       "      <td>11</td>\n",
       "      <td>0</td>\n",
       "      <td>4</td>\n",
       "      <td>93</td>\n",
       "      <td>1</td>\n",
       "      <td>32</td>\n",
       "      <td>1</td>\n",
       "      <td>1.720281</td>\n",
       "      <td>...</td>\n",
       "      <td>0</td>\n",
       "      <td>0</td>\n",
       "      <td>0</td>\n",
       "      <td>1</td>\n",
       "      <td>0</td>\n",
       "      <td>0</td>\n",
       "      <td>1</td>\n",
       "      <td>0</td>\n",
       "      <td>0</td>\n",
       "      <td>0</td>\n",
       "    </tr>\n",
       "    <tr>\n",
       "      <th>3</th>\n",
       "      <td>50</td>\n",
       "      <td>5</td>\n",
       "      <td>19</td>\n",
       "      <td>0</td>\n",
       "      <td>5</td>\n",
       "      <td>417</td>\n",
       "      <td>0</td>\n",
       "      <td>32</td>\n",
       "      <td>3</td>\n",
       "      <td>11.202121</td>\n",
       "      <td>...</td>\n",
       "      <td>0</td>\n",
       "      <td>0</td>\n",
       "      <td>1</td>\n",
       "      <td>0</td>\n",
       "      <td>0</td>\n",
       "      <td>0</td>\n",
       "      <td>0</td>\n",
       "      <td>0</td>\n",
       "      <td>1</td>\n",
       "      <td>0</td>\n",
       "    </tr>\n",
       "    <tr>\n",
       "      <th>4</th>\n",
       "      <td>28</td>\n",
       "      <td>26</td>\n",
       "      <td>16</td>\n",
       "      <td>0</td>\n",
       "      <td>7</td>\n",
       "      <td>219</td>\n",
       "      <td>1</td>\n",
       "      <td>32</td>\n",
       "      <td>2</td>\n",
       "      <td>4.064121</td>\n",
       "      <td>...</td>\n",
       "      <td>0</td>\n",
       "      <td>0</td>\n",
       "      <td>0</td>\n",
       "      <td>1</td>\n",
       "      <td>0</td>\n",
       "      <td>0</td>\n",
       "      <td>0</td>\n",
       "      <td>0</td>\n",
       "      <td>0</td>\n",
       "      <td>1</td>\n",
       "    </tr>\n",
       "  </tbody>\n",
       "</table>\n",
       "<p>5 rows × 31 columns</p>\n",
       "</div>"
      ],
      "text/plain": [
       "   batchsize  channels_in  channels_out  gpu  kernelsize  matsize  padding  \\\n",
       "0         28            4            42    0           2      224        1   \n",
       "1         49         2224          2507    0           2        3        1   \n",
       "2         28           51            11    0           4       93        1   \n",
       "3         50            5            19    0           5      417        0   \n",
       "4         28           26            16    0           7      219        1   \n",
       "\n",
       "   precision  strides  timeUsed_max    ...     opt_Adagrad  opt_Adam  \\\n",
       "0         32        2      2.965198    ...               0         0   \n",
       "1         32        3      1.815758    ...               0         0   \n",
       "2         32        1      1.720281    ...               0         0   \n",
       "3         32        3     11.202121    ...               0         0   \n",
       "4         32        2      4.064121    ...               0         0   \n",
       "\n",
       "   opt_Momentum  opt_None  opt_RMSProp  opt_SGD  act_None  act_relu  \\\n",
       "0             0         0            0        1         1         0   \n",
       "1             0         1            0        0         0         0   \n",
       "2             0         1            0        0         1         0   \n",
       "3             1         0            0        0         0         0   \n",
       "4             0         1            0        0         0         0   \n",
       "\n",
       "   act_sigmoid  act_tanh  \n",
       "0            0         0  \n",
       "1            1         0  \n",
       "2            0         0  \n",
       "3            1         0  \n",
       "4            0         1  \n",
       "\n",
       "[5 rows x 31 columns]"
      ]
     },
     "metadata": {},
     "output_type": "display_data"
    },
    {
     "name": "stdout",
     "output_type": "stream",
     "text": [
      "Index(['batchsize', 'channels_in', 'channels_out', 'gpu', 'kernelsize',\n",
      "       'matsize', 'padding', 'precision', 'strides', 'timeUsed_max',\n",
      "       'timeUsed_median', 'timeUsed_min', 'timeUsed_std', 'use_bias',\n",
      "       'elements_matrix', 'elements_kernel', 'ops', 'memory_weights',\n",
      "       'memory_in', 'memory_out', 'opt_Adadelta', 'opt_Adagrad', 'opt_Adam',\n",
      "       'opt_Momentum', 'opt_None', 'opt_RMSProp', 'opt_SGD', 'act_None',\n",
      "       'act_relu', 'act_sigmoid', 'act_tanh'],\n",
      "      dtype='object')\n",
      "[1, 2, 3, 4, 5, 6, 7, 8, 9, 10, 11, 12, 13, 14, 15, 16, 17, 18, 19, 20, 21, 22, 23, 24, 25, 26, 27, 28, 29, 30, 31, 32, 33, 34, 35, 36, 37, 38, 39, 40, 41, 42, 43, 44, 45, 46, 47, 48, 49, 50, 51, 52, 53, 54, 55, 56, 57, 58, 59, 60, 61, 62, 63, 64]\n"
     ]
    }
   ],
   "source": [
    "datapath = os.path.join(DATA_PATH, \"Data_convolution_{}.pkl\".format(test_data))\n",
    "print(\"Reading V100 data from {}\".format(datapath))\n",
    "df_v100 = pd.read_pickle(datapath)\n",
    "display(df_v100.head())\n",
    "print(df_v100.columns)\n",
    "print(sorted(df_v100['batchsize'].unique()))"
   ]
  },
  {
   "cell_type": "code",
   "execution_count": 7,
   "metadata": {},
   "outputs": [
    {
     "data": {
      "image/png": "[encoded data removed]",
      "text/plain": [
       "<Figure size 1152x576 with 2 Axes>"
      ]
     },
     "metadata": {
      "needs_background": "light"
     },
     "output_type": "display_data"
    }
   ],
   "source": [
    "fig, axes = plt.subplots(nrows=1, ncols=2, figsize=[16,8])\n",
    "\n",
    "df[df['opt_None']==1]['timeUsed_median'].plot.hist(bins=np.arange(0,150,5), ax=axes[0], alpha=.5)\n",
    "df[df['opt_None']==0]['timeUsed_median'].plot.hist(bins=np.arange(0,150,5), ax=axes[0], alpha=.5, color='orange')\n",
    "\n",
    "df[df['opt_None']==1].plot.scatter(x='ops', y='timeUsed_median', ax=axes[1], alpha=.5, label='No backprop')\n",
    "df[df['opt_None']==0].plot.scatter(x='ops', y='timeUsed_median', ax=axes[1], alpha=.5, color='orange', label='backprop')\n",
    "\n",
    "plt.show()"
   ]
  },
  {
   "cell_type": "code",
   "execution_count": 8,
   "metadata": {},
   "outputs": [],
   "source": [
    "if useData == 'Dense':\n",
    "    model_name = '%s_dense' %model_name"
   ]
  },
  {
   "cell_type": "code",
   "execution_count": 9,
   "metadata": {},
   "outputs": [],
   "source": [
    "# # Only forward pass\n",
    "# df = df[df['opt_SGD']==1]\n",
    "# model_name = '%s_SGD'%model_name\n",
    "# scaler_filename = (\"scaler_%s_Conv.save\" %model_name)"
   ]
  },
  {
   "cell_type": "markdown",
   "metadata": {},
   "source": [
    "### Generate train, test and validation datasets (80%,10%,10%)\n",
    "#### Normalise data, generate train, test, validation dataset\n",
    "#### Use median of time as target parameter"
   ]
  },
  {
   "cell_type": "code",
   "execution_count": 10,
   "metadata": {},
   "outputs": [
    {
     "name": "stdout",
     "output_type": "stream",
     "text": [
      "no_V100 Conv\n"
     ]
    }
   ],
   "source": [
    "print(model_name, useData)"
   ]
  },
  {
   "cell_type": "code",
   "execution_count": 11,
   "metadata": {},
   "outputs": [],
   "source": [
    "split=[.8,.1,.1]\n",
    "if model_name == 'all' or model_name[0:3] == 'no_':\n",
    "    data_cols_conv = ['batchsize','elements_matrix','elements_kernel',\n",
    "                      'channels_in','channels_out','padding','strides','use_bias', \n",
    "                      'opt_SGD','opt_Adadelta','opt_Adagrad','opt_Momentum','opt_Adam','opt_RMSProp',\n",
    "                      'act_relu','act_tanh','act_sigmoid',\n",
    "                      'bandwidth','cores','clock']\n",
    "    \n",
    "    data_cols_dense = ['batchsize','dim_input','dim_output',\n",
    "                       'opt_SGD','opt_Adadelta','opt_Adagrad','opt_Momentum','opt_Adam','opt_RMSProp',\n",
    "                       'act_relu','act_tanh','act_sigmoid',\n",
    "                      'bandwidth','cores','clock']\n",
    "    \n",
    "else:\n",
    "    data_cols_conv = ['batchsize','elements_matrix','elements_kernel',\n",
    "                      'channels_in','channels_out','padding','strides','use_bias', \n",
    "                      'opt_SGD','opt_Adadelta','opt_Adagrad','opt_Momentum','opt_Adam','opt_RMSProp',\n",
    "                      'act_relu','act_tanh','act_sigmoid']\n",
    "    \n",
    "    data_cols_dense = ['batchsize','dim_input','dim_output',\n",
    "                       'opt_SGD','opt_Adadelta','opt_Adagrad','opt_Momentum','opt_Adam','opt_RMSProp',\n",
    "                       'act_relu','act_tanh','act_sigmoid']\n",
    "\n",
    "\n",
    "if useData == 'Conv':\n",
    "    data_cols = data_cols_conv\n",
    "elif useData == 'Dense':\n",
    "    data_cols = data_cols_dense"
   ]
  },
  {
   "cell_type": "code",
   "execution_count": 12,
   "metadata": {},
   "outputs": [
    {
     "name": "stdout",
     "output_type": "stream",
     "text": [
      "Size of train dataset: 84242 \n",
      "Size of test dataset: 10530 \n",
      "Size of validation dataset: 10531\n"
     ]
    },
    {
     "data": {
      "text/plain": [
       "['/home/keras/host/prediction_model/models/no_V100/scaler_Conv.save']"
      ]
     },
     "execution_count": 12,
     "metadata": {},
     "output_type": "execute_result"
    }
   ],
   "source": [
    "data, time, train, test, validation, scaler = dataprep.data_preprocess(df,data_cols,split)\n",
    "joblib.dump(scaler, scaler_filename) "
   ]
  },
  {
   "cell_type": "markdown",
   "metadata": {},
   "source": [
    "### Define model"
   ]
  },
  {
   "cell_type": "code",
   "execution_count": 13,
   "metadata": {},
   "outputs": [],
   "source": [
    "if model_name == 'all' or model_name[0:3] == 'no_':\n",
    "    num_neurons = [32,64,128,128,128,128]\n",
    "else:\n",
    "    num_neurons = [32,64,128,128]\n",
    "    \n",
    "lr_initial = 0.1\n",
    "lr_decay_step = 40"
   ]
  },
  {
   "cell_type": "code",
   "execution_count": 14,
   "metadata": {},
   "outputs": [],
   "source": [
    "tf.reset_default_graph()\n",
    "data_dim = data['Train'].shape[1]\n",
    "\n",
    "inputs = tf.placeholder(tf.float32, shape=(None, data_dim), name='model_input')\n",
    "targets = tf.placeholder(tf.float32, shape=(None), name='model_targets')\n",
    "learning_rate = tf.placeholder(tf.float32, shape=[])\n",
    "reg_constant = .00001\n",
    "dropout_rate = 0.2\n",
    "batch_size = 128"
   ]
  },
  {
   "cell_type": "markdown",
   "metadata": {},
   "source": [
    "#### Remove checkpoints and tb output"
   ]
  },
  {
   "cell_type": "code",
   "execution_count": 15,
   "metadata": {},
   "outputs": [
    {
     "name": "stdout",
     "output_type": "stream",
     "text": [
      "Checkpoints cleared\n"
     ]
    }
   ],
   "source": [
    "try:\n",
    "    folder = './checkpoints/%s' % model_name\n",
    "    for the_file in os.listdir(folder):\n",
    "        file_path = os.path.join(folder, the_file)\n",
    "        os.remove(file_path)\n",
    "\n",
    "    folder = './graphs/prediction/test/%s' % model_name\n",
    "    for the_file in os.listdir(folder):\n",
    "        file_path = os.path.join(folder, the_file) \n",
    "        os.remove(file_path)\n",
    "\n",
    "    folder = './graphs/prediction/train/%s' % model_name\n",
    "    for the_file in os.listdir(folder):\n",
    "        file_path = os.path.join(folder, the_file) \n",
    "        os.remove(file_path)\n",
    "        \n",
    "    print('Checkpoints cleared')\n",
    "except:\n",
    "    print('Nothing to delete')\n",
    "    "
   ]
  },
  {
   "cell_type": "code",
   "execution_count": 16,
   "metadata": {},
   "outputs": [],
   "source": [
    "model = Model(inputs,targets,learning_rate,reg_constant,dropout_rate,\n",
    "              num_neurons,lr_initial,lr_decay_step,batch_size,model_name)"
   ]
  },
  {
   "cell_type": "code",
   "execution_count": 17,
   "metadata": {},
   "outputs": [
    {
     "data": {
      "text/plain": [
       "<tf.Operation 'Adam' type=AssignAdd>"
      ]
     },
     "execution_count": 17,
     "metadata": {},
     "output_type": "execute_result"
    }
   ],
   "source": [
    "model.prediction\n",
    "model.train_op"
   ]
  },
  {
   "cell_type": "markdown",
   "metadata": {},
   "source": [
    "### Run model, generate plots\n",
    "##### Checkpoints in ./Checkpoint, tb graphs and summaries in ./graphs"
   ]
  },
  {
   "cell_type": "code",
   "execution_count": 18,
   "metadata": {
    "scrolled": false
   },
   "outputs": [
    {
     "name": "stdout",
     "output_type": "stream",
     "text": [
      "/home/keras/host/prediction_model/notebooks\n",
      "Epoch 0: Train loss 0.386, Test loss 0.249\n",
      "Epoch 10: Train loss 0.063, Test loss 0.060\n",
      "Epoch 20: Train loss 0.048, Test loss 0.052\n",
      "Epoch 30: Train loss 0.044, Test loss 0.043\n",
      "Epoch 40: Train loss 0.032, Test loss 0.032\n",
      "Epoch 50: Train loss 0.031, Test loss 0.031\n",
      "Epoch 60: Train loss 0.029, Test loss 0.030\n",
      "Epoch 70: Train loss 0.029, Test loss 0.033\n",
      "Epoch 80: Train loss 0.025, Test loss 0.026\n",
      "Epoch 90: Train loss 0.024, Test loss 0.024\n",
      "Epoch 100: Train loss 0.023, Test loss 0.025\n",
      "Epoch 110: Train loss 0.023, Test loss 0.025\n",
      "Epoch 120: Train loss 0.021, Test loss 0.022\n",
      "Epoch 130: Train loss 0.021, Test loss 0.022\n",
      "Epoch 140: Train loss 0.020, Test loss 0.022\n",
      "Epoch 150: Train loss 0.020, Test loss 0.022\n",
      "Epoch 160: Train loss 0.019, Test loss 0.021\n",
      "Epoch 170: Train loss 0.019, Test loss 0.021\n",
      "Epoch 180: Train loss 0.019, Test loss 0.021\n",
      "Epoch 190: Train loss 0.019, Test loss 0.021\n",
      "Epoch 200: Train loss 0.018, Test loss 0.021\n",
      "Epoch 210: Train loss 0.018, Test loss 0.020\n",
      "Epoch 220: Train loss 0.018, Test loss 0.020\n",
      "Epoch 230: Train loss 0.018, Test loss 0.020\n",
      "Epoch 240: Train loss 0.018, Test loss 0.020\n",
      "Epoch 250: Train loss 0.018, Test loss 0.020\n",
      "Epoch 260: Train loss 0.018, Test loss 0.020\n",
      "Epoch 270: Train loss 0.018, Test loss 0.020\n",
      "Epoch 280: Train loss 0.018, Test loss 0.020\n",
      "Epoch 290: Train loss 0.018, Test loss 0.020\n"
     ]
    }
   ],
   "source": [
    "model.train(data['Train'],time['Train'],data['Test'],time['Test'],300)"
   ]
  },
  {
   "cell_type": "code",
   "execution_count": 19,
   "metadata": {},
   "outputs": [
    {
     "name": "stdout",
     "output_type": "stream",
     "text": [
      "INFO:tensorflow:Restoring parameters from checkpoints/no_V100/prediction-299\n",
      "WARNING:tensorflow:From /opt/conda/lib/python3.6/site-packages/tensorflow/python/saved_model/simple_save.py:85: calling SavedModelBuilder.add_meta_graph_and_variables (from tensorflow.python.saved_model.builder_impl) with legacy_init_op is deprecated and will be removed in a future version.\n",
      "Instructions for updating:\n",
      "Pass your op to the equivalent parameter main_op instead.\n",
      "INFO:tensorflow:Assets added to graph.\n",
      "INFO:tensorflow:No assets to write.\n",
      "INFO:tensorflow:SavedModel written to: /home/keras/host/prediction_model/models/no_V100/saved_model/saved_model.pb\n"
     ]
    }
   ],
   "source": [
    "saver = tf.train.Saver()\n",
    "folder = os.path.join(ROOT_DIR, 'prediction_model/models/%s/saved_model' %model_name)\n",
    "try:\n",
    "    shutil.rmtree(folder)\n",
    "except:\n",
    "    pass\n",
    "with tf.Session() as sess:\n",
    "    sess.run(tf.global_variables_initializer())\n",
    "    \n",
    "    ckpt = tf.train.get_checkpoint_state(os.path.dirname('checkpoints/%s/checkpoint' %model_name))\n",
    "    saver.restore(sess, ckpt.model_checkpoint_path)\n",
    "    tf.saved_model.simple_save(\n",
    "            sess,\n",
    "            folder,\n",
    "            inputs={'model_input': inputs,'model_istraining': model.istraining},\n",
    "            outputs={'model_prediction': model.prediction})"
   ]
  },
  {
   "cell_type": "code",
   "execution_count": 20,
   "metadata": {},
   "outputs": [
    {
     "name": "stdout",
     "output_type": "stream",
     "text": [
      "INFO:tensorflow:Restoring parameters from checkpoints/no_V100/prediction-299\n"
     ]
    },
    {
     "data": {
      "image/png": "[encoded data removed]",
      "text/plain": [
       "<Figure size 576x576 with 1 Axes>"
      ]
     },
     "metadata": {
      "needs_background": "light"
     },
     "output_type": "display_data"
    },
    {
     "name": "stdout",
     "output_type": "stream",
     "text": [
      "RMS test error = 4.36 ms\n"
     ]
    }
   ],
   "source": [
    "saver = tf.train.Saver()\n",
    "with tf.Session() as sess:\n",
    "    sess.run(tf.global_variables_initializer())\n",
    "    \n",
    "    ckpt = tf.train.get_checkpoint_state(os.path.dirname('checkpoints/%s/checkpoint' %model_name))\n",
    "    saver.restore(sess, ckpt.model_checkpoint_path)\n",
    "    \n",
    "    v = sess.run(tf.get_collection(tf.GraphKeys.TRAINABLE_VARIABLES))\n",
    "    \n",
    "    test_prediction, test_loss = sess.run(\n",
    "            [model.prediction,model.loss], \n",
    "            feed_dict={model.inputs: data['Test'], \n",
    "                       model.targets: time['Test'],\n",
    "                       model.istraining: False}) \n",
    "    \n",
    "RMS_test_error = np.sqrt(np.mean((time['Test']-test_prediction)**2))\n",
    "\n",
    "fig,ax = plt.subplots(1,1,figsize=[8,8])\n",
    "ax.plot(time['Test'],test_prediction,'.')\n",
    "ax.plot(time['Test'],time['Test'],2)\n",
    "\n",
    "\n",
    "ax.get_xaxis().set_major_formatter(matplotlib.ticker.ScalarFormatter())\n",
    "ax.get_yaxis().set_major_formatter(matplotlib.ticker.ScalarFormatter())\n",
    "ax.xaxis.set_minor_formatter(plt.NullFormatter())\n",
    "ax.yaxis.set_minor_formatter(plt.NullFormatter())\n",
    "\n",
    "matplotlib.rc('xtick', labelsize=18) \n",
    "matplotlib.rc('ytick', labelsize=18) \n",
    "\n",
    "plt.xlabel('measured time (ms)',fontsize=18)\n",
    "plt.ylabel('predicted time (ms)',fontsize=18)\n",
    "\n",
    "\n",
    "axlim = max(plt.xlim()[1],plt.ylim()[1])\n",
    "\n",
    "\n",
    "#plt.axis('equal')\n",
    "ax.set_xlim(-axlim*.025,axlim*1.025)\n",
    "ax.set_ylim(-axlim*.025,axlim*1.025)\n",
    "\n",
    "plt.tight_layout()\n",
    "\n",
    "# if useData == 'Conv':\n",
    "#     plt.savefig('figures/Validation_%s_conv.png' %model_name, dpi=300)\n",
    "# elif useData == 'Dense':\n",
    "#     plt.savefig('figures/Validation_%s_fc.png' %model_name, dpi=300)\n",
    "\n",
    "plt.show()\n",
    "print('RMS test error = %.3g ms' %(RMS_test_error))"
   ]
  },
  {
   "cell_type": "code",
   "execution_count": 26,
   "metadata": {},
   "outputs": [
    {
     "name": "stdout",
     "output_type": "stream",
     "text": [
      "<class 'numpy.ndarray'> <class 'numpy.ndarray'>\n"
     ]
    }
   ],
   "source": [
    "print(type(time[\"Test\"]),type(test_prediction))"
   ]
  },
  {
   "cell_type": "markdown",
   "metadata": {},
   "source": [
    "### STOP here - validation data set"
   ]
  },
  {
   "cell_type": "code",
   "execution_count": null,
   "metadata": {
    "scrolled": false
   },
   "outputs": [],
   "source": [
    "saver = tf.train.Saver()\n",
    "with tf.Session() as sess:\n",
    "    sess.run(tf.global_variables_initializer())\n",
    "    \n",
    "    ckpt = tf.train.get_checkpoint_state(os.path.dirname('checkpoints/%s/checkpoint' %model_name))\n",
    "    saver.restore(sess, ckpt.model_checkpoint_path)\n",
    "    \n",
    "    v = sess.run(tf.get_collection(tf.GraphKeys.TRAINABLE_VARIABLES))\n",
    "    \n",
    "    validation_prediction, validation_loss = sess.run(\n",
    "            [model.prediction,model.loss], \n",
    "            feed_dict={model.inputs: data['Validation'], \n",
    "                       model.targets: time['Validation'],\n",
    "                       model.istraining: False}) \n",
    "    \n",
    "RMS_validation_error=np.sqrt(np.mean((time['Validation']-validation_prediction)**2))\n",
    "perc_error = np.mean(np.abs(time['Validation']-validation_prediction)/time['Validation'])*100\n",
    "\n",
    "fig,ax = plt.subplots(1,1,figsize=[8,8])\n",
    "ax.plot(time['Validation'],validation_prediction,'.')\n",
    "ax.plot(time['Validation'],time['Validation'],2)\n",
    "\n",
    "\n",
    "ax.get_xaxis().set_major_formatter(matplotlib.ticker.ScalarFormatter())\n",
    "ax.get_yaxis().set_major_formatter(matplotlib.ticker.ScalarFormatter())\n",
    "ax.xaxis.set_minor_formatter(plt.NullFormatter())\n",
    "ax.yaxis.set_minor_formatter(plt.NullFormatter())\n",
    "\n",
    "matplotlib.rc('xtick', labelsize=30) \n",
    "matplotlib.rc('ytick', labelsize=30) \n",
    "\n",
    "plt.xlabel('measured time (ms)',fontsize=30)\n",
    "plt.ylabel('predicted time (ms)',fontsize=30)\n",
    "\n",
    "\n",
    "axlim = max(plt.xlim()[1],plt.ylim()[1])\n",
    "\n",
    "\n",
    "#plt.axis('equal')\n",
    "ax.set_xlim(-axlim*.025,axlim*1.025)\n",
    "ax.set_ylim(-axlim*.025,axlim*1.025)\n",
    "\n",
    "# ax.xaxis.set_ticks([0,25,50,75,100,125])\n",
    "\n",
    "plt.tight_layout()\n",
    "\n",
    "# if useData == 'Conv':\n",
    "#     plt.savefig('figures/Validation_%s_conv.png' %model_name, dpi=300)\n",
    "# elif useData == 'Dense':\n",
    "#     plt.savefig('figures/Validation_%s_fc.png' %model_name, dpi=300)\n",
    "\n",
    "plt.show()\n",
    "print('RMS validation error = %.3g ms' %(RMS_validation_error))\n",
    "print('Percentage error = %.3g%%' %(perc_error))"
   ]
  },
  {
   "cell_type": "markdown",
   "metadata": {},
   "source": [
    "## Build a linear regression as comparison"
   ]
  },
  {
   "cell_type": "code",
   "execution_count": null,
   "metadata": {},
   "outputs": [],
   "source": [
    "df_validation = df.iloc[validation]\n",
    "df_train = df.iloc[train]"
   ]
  },
  {
   "cell_type": "code",
   "execution_count": null,
   "metadata": {},
   "outputs": [],
   "source": [
    "linreg = linear_model.LinearRegression()"
   ]
  },
  {
   "cell_type": "code",
   "execution_count": null,
   "metadata": {},
   "outputs": [],
   "source": [
    "x_train = df_train[['batchsize','elements_matrix','elements_kernel',\n",
    "                'channels_in','channels_out','padding','strides','use_bias','ops']].values   \n",
    "y_train = df_train['timeUsed_median'].values   # time\n",
    "\n",
    "x_valid = df_validation[['batchsize','elements_matrix','elements_kernel',\n",
    "                'channels_in','channels_out','padding','strides','use_bias','ops']].values\n",
    "y_valid = df_validation['timeUsed_median'].values   # time"
   ]
  },
  {
   "cell_type": "code",
   "execution_count": null,
   "metadata": {},
   "outputs": [],
   "source": [
    "linreg.fit(x_train,y_train)"
   ]
  },
  {
   "cell_type": "code",
   "execution_count": null,
   "metadata": {},
   "outputs": [],
   "source": [
    "lp = linreg.predict(x_valid)"
   ]
  },
  {
   "cell_type": "code",
   "execution_count": null,
   "metadata": {},
   "outputs": [],
   "source": [
    "linreg.coef_"
   ]
  },
  {
   "cell_type": "code",
   "execution_count": null,
   "metadata": {
    "scrolled": false
   },
   "outputs": [],
   "source": [
    "labels = [.2,.3,.4,.5,1]\n",
    "\n",
    "RMS_vadiation_error=np.sqrt(np.mean((y_valid-lp)**2))\n",
    "perc_error = np.mean(np.abs(y_valid-lp)/y_valid)*100\n",
    "fig,ax = plt.subplots(1,1,figsize=[8,8])\n",
    "\n",
    "ax.plot(y_valid,lp,'.')\n",
    "\n",
    "ax.plot(y_valid,y_valid)\n",
    "\n",
    "ax.get_xaxis().set_major_formatter(matplotlib.ticker.ScalarFormatter())\n",
    "ax.get_yaxis().set_major_formatter(matplotlib.ticker.ScalarFormatter())\n",
    "ax.xaxis.set_minor_formatter(plt.NullFormatter())\n",
    "ax.yaxis.set_minor_formatter(plt.NullFormatter())\n",
    "\n",
    "\n",
    "matplotlib.rc('xtick', labelsize=30) \n",
    "matplotlib.rc('ytick', labelsize=30) \n",
    "\n",
    "plt.xlabel('measured time (ms)',fontsize=30)\n",
    "plt.ylabel('predicted time (ms)',fontsize=30)\n",
    "\n",
    "#plt.axis('equal')\n",
    "ax.set_xlim(-axlim*.025,axlim*1.025)\n",
    "ax.set_ylim(-axlim*.025,axlim*1.025)\n",
    "\n",
    "# ax.xaxis.set_ticks([0,25,50,75,100,125])\n",
    "\n",
    "plt.tight_layout()\n",
    "\n",
    "\n",
    "# if useData == 'Conv':\n",
    "#     plt.savefig('figures/Validation_%s_conv_linearreg.png' %model_name, dpi=300)\n",
    "# elif useData == 'Dense':\n",
    "#     plt.savefig('figures/Validation_%s_fc_linearreg.png' %model_name, dpi=300)\n",
    "\n",
    "plt.show()"
   ]
  },
  {
   "cell_type": "code",
   "execution_count": null,
   "metadata": {
    "scrolled": true
   },
   "outputs": [],
   "source": [
    "RMS_vadiation_error"
   ]
  },
  {
   "cell_type": "code",
   "execution_count": null,
   "metadata": {},
   "outputs": [],
   "source": [
    "perc_error"
   ]
  },
  {
   "cell_type": "code",
   "execution_count": null,
   "metadata": {},
   "outputs": [],
   "source": []
  }
 ],
 "metadata": {
  "kernelspec": {
   "display_name": "Python 3",
   "language": "python",
   "name": "python3"
  },
  "language_info": {
   "codemirror_mode": {
    "name": "ipython",
    "version": 3
   },
   "file_extension": ".py",
   "mimetype": "text/x-python",
   "name": "python",
   "nbconvert_exporter": "python",
   "pygments_lexer": "ipython3",
   "version": "3.6.3"
  }
 },
 "nbformat": 4,
 "nbformat_minor": 2
}
