{
 "cells": [
  {
   "cell_type": "markdown",
   "metadata": {},
   "source": [
    "# Predict GPU performance from other GPUs\n",
    "### Use model trained on training data set from 5 GPUs, test on (all) data from remaining GPU"
   ]
  },
  {
   "cell_type": "code",
   "execution_count": 2,
   "metadata": {},
   "outputs": [],
   "source": [
    "%matplotlib inline\n",
    "import os\n",
    "import sys\n",
    "import tensorflow as tf\n",
    "from sklearn.externals import joblib\n",
    "import numpy as np\n",
    "import pandas as pd\n",
    "import matplotlib.pyplot as plt\n",
    "import matplotlib"
   ]
  },
  {
   "cell_type": "code",
   "execution_count": 2,
   "metadata": {},
   "outputs": [],
   "source": [
    "# Root directory of the project\n",
    "ROOT_DIR = os.path.abspath(\"../../\")\n",
    "sys.path.append(ROOT_DIR)  # To find local version of the library"
   ]
  },
  {
   "cell_type": "code",
   "execution_count": 3,
   "metadata": {},
   "outputs": [],
   "source": [
    "from prediction_model import dataprep"
   ]
  },
  {
   "cell_type": "code",
   "execution_count": 4,
   "metadata": {},
   "outputs": [],
   "source": [
    "predict = 'QuadroP2000'\n",
    "data_model = '%s' %predict\n",
    "\n",
    "prediction_model = '%s' %predict"
   ]
  },
  {
   "cell_type": "code",
   "execution_count": 5,
   "metadata": {},
   "outputs": [],
   "source": [
    "# Set paths\n",
    "PREDICTION_PATH = os.path.join(ROOT_DIR, 'prediction_model/models/%s/saved_model' %prediction_model)\n",
    "SCALER_PATH = os.path.join(ROOT_DIR, 'prediction_model/models/%s/scaler_Conv.save' %prediction_model)\n",
    "DATA_PATH = os.path.join(ROOT_DIR, 'prediction_model/data/Data_convolution_%s.pkl' %data_model)"
   ]
  },
  {
   "cell_type": "code",
   "execution_count": 6,
   "metadata": {},
   "outputs": [],
   "source": [
    "scaler = joblib.load(SCALER_PATH)\n",
    "df = pd.read_pickle(DATA_PATH)\n",
    "tfmodel_file = PREDICTION_PATH"
   ]
  },
  {
   "cell_type": "code",
   "execution_count": 7,
   "metadata": {},
   "outputs": [
    {
     "data": {
      "text/html": [
       "<div>\n",
       "<style scoped>\n",
       "    .dataframe tbody tr th:only-of-type {\n",
       "        vertical-align: middle;\n",
       "    }\n",
       "\n",
       "    .dataframe tbody tr th {\n",
       "        vertical-align: top;\n",
       "    }\n",
       "\n",
       "    .dataframe thead th {\n",
       "        text-align: right;\n",
       "    }\n",
       "</style>\n",
       "<table border=\"1\" class=\"dataframe\">\n",
       "  <thead>\n",
       "    <tr style=\"text-align: right;\">\n",
       "      <th></th>\n",
       "      <th>batchsize</th>\n",
       "      <th>channels_in</th>\n",
       "      <th>channels_out</th>\n",
       "      <th>gpu</th>\n",
       "      <th>kernelsize</th>\n",
       "      <th>matsize</th>\n",
       "      <th>padding</th>\n",
       "      <th>precision</th>\n",
       "      <th>strides</th>\n",
       "      <th>timeUsed_max</th>\n",
       "      <th>...</th>\n",
       "      <th>opt_Adagrad</th>\n",
       "      <th>opt_Adam</th>\n",
       "      <th>opt_Momentum</th>\n",
       "      <th>opt_None</th>\n",
       "      <th>opt_RMSProp</th>\n",
       "      <th>opt_SGD</th>\n",
       "      <th>act_None</th>\n",
       "      <th>act_relu</th>\n",
       "      <th>act_sigmoid</th>\n",
       "      <th>act_tanh</th>\n",
       "    </tr>\n",
       "  </thead>\n",
       "  <tbody>\n",
       "    <tr>\n",
       "      <td>count</td>\n",
       "      <td>9383.000000</td>\n",
       "      <td>9383.000000</td>\n",
       "      <td>9383.000000</td>\n",
       "      <td>9383.0</td>\n",
       "      <td>9383.000000</td>\n",
       "      <td>9383.000000</td>\n",
       "      <td>9383.000000</td>\n",
       "      <td>9383.0</td>\n",
       "      <td>9383.000000</td>\n",
       "      <td>9383.000000</td>\n",
       "      <td>...</td>\n",
       "      <td>9383.000000</td>\n",
       "      <td>9383.000000</td>\n",
       "      <td>9383.000000</td>\n",
       "      <td>9383.000000</td>\n",
       "      <td>9383.000000</td>\n",
       "      <td>9383.000000</td>\n",
       "      <td>9383.000000</td>\n",
       "      <td>9383.000000</td>\n",
       "      <td>9383.000000</td>\n",
       "      <td>9383.000000</td>\n",
       "    </tr>\n",
       "    <tr>\n",
       "      <td>mean</td>\n",
       "      <td>121.266652</td>\n",
       "      <td>14.333049</td>\n",
       "      <td>14.535863</td>\n",
       "      <td>0.0</td>\n",
       "      <td>3.978791</td>\n",
       "      <td>245.620271</td>\n",
       "      <td>0.505595</td>\n",
       "      <td>32.0</td>\n",
       "      <td>2.520729</td>\n",
       "      <td>82.986734</td>\n",
       "      <td>...</td>\n",
       "      <td>0.084301</td>\n",
       "      <td>0.078120</td>\n",
       "      <td>0.078973</td>\n",
       "      <td>0.523713</td>\n",
       "      <td>0.076095</td>\n",
       "      <td>0.083769</td>\n",
       "      <td>0.252691</td>\n",
       "      <td>0.253224</td>\n",
       "      <td>0.248961</td>\n",
       "      <td>0.245124</td>\n",
       "    </tr>\n",
       "    <tr>\n",
       "      <td>std</td>\n",
       "      <td>71.603786</td>\n",
       "      <td>65.871528</td>\n",
       "      <td>64.641642</td>\n",
       "      <td>0.0</td>\n",
       "      <td>2.013088</td>\n",
       "      <td>146.825455</td>\n",
       "      <td>0.499995</td>\n",
       "      <td>0.0</td>\n",
       "      <td>1.109047</td>\n",
       "      <td>152.331398</td>\n",
       "      <td>...</td>\n",
       "      <td>0.277854</td>\n",
       "      <td>0.268375</td>\n",
       "      <td>0.269710</td>\n",
       "      <td>0.499464</td>\n",
       "      <td>0.265164</td>\n",
       "      <td>0.277055</td>\n",
       "      <td>0.434578</td>\n",
       "      <td>0.434881</td>\n",
       "      <td>0.432434</td>\n",
       "      <td>0.430184</td>\n",
       "    </tr>\n",
       "    <tr>\n",
       "      <td>min</td>\n",
       "      <td>1.000000</td>\n",
       "      <td>1.000000</td>\n",
       "      <td>1.000000</td>\n",
       "      <td>0.0</td>\n",
       "      <td>1.000000</td>\n",
       "      <td>1.000000</td>\n",
       "      <td>0.000000</td>\n",
       "      <td>32.0</td>\n",
       "      <td>1.000000</td>\n",
       "      <td>0.672007</td>\n",
       "      <td>...</td>\n",
       "      <td>0.000000</td>\n",
       "      <td>0.000000</td>\n",
       "      <td>0.000000</td>\n",
       "      <td>0.000000</td>\n",
       "      <td>0.000000</td>\n",
       "      <td>0.000000</td>\n",
       "      <td>0.000000</td>\n",
       "      <td>0.000000</td>\n",
       "      <td>0.000000</td>\n",
       "      <td>0.000000</td>\n",
       "    </tr>\n",
       "    <tr>\n",
       "      <td>25%</td>\n",
       "      <td>59.000000</td>\n",
       "      <td>2.000000</td>\n",
       "      <td>2.000000</td>\n",
       "      <td>0.0</td>\n",
       "      <td>2.000000</td>\n",
       "      <td>117.000000</td>\n",
       "      <td>0.000000</td>\n",
       "      <td>32.0</td>\n",
       "      <td>2.000000</td>\n",
       "      <td>7.185888</td>\n",
       "      <td>...</td>\n",
       "      <td>0.000000</td>\n",
       "      <td>0.000000</td>\n",
       "      <td>0.000000</td>\n",
       "      <td>0.000000</td>\n",
       "      <td>0.000000</td>\n",
       "      <td>0.000000</td>\n",
       "      <td>0.000000</td>\n",
       "      <td>0.000000</td>\n",
       "      <td>0.000000</td>\n",
       "      <td>0.000000</td>\n",
       "    </tr>\n",
       "    <tr>\n",
       "      <td>50%</td>\n",
       "      <td>117.000000</td>\n",
       "      <td>4.000000</td>\n",
       "      <td>4.000000</td>\n",
       "      <td>0.0</td>\n",
       "      <td>4.000000</td>\n",
       "      <td>242.000000</td>\n",
       "      <td>1.000000</td>\n",
       "      <td>32.0</td>\n",
       "      <td>3.000000</td>\n",
       "      <td>23.942184</td>\n",
       "      <td>...</td>\n",
       "      <td>0.000000</td>\n",
       "      <td>0.000000</td>\n",
       "      <td>0.000000</td>\n",
       "      <td>1.000000</td>\n",
       "      <td>0.000000</td>\n",
       "      <td>0.000000</td>\n",
       "      <td>0.000000</td>\n",
       "      <td>0.000000</td>\n",
       "      <td>0.000000</td>\n",
       "      <td>0.000000</td>\n",
       "    </tr>\n",
       "    <tr>\n",
       "      <td>75%</td>\n",
       "      <td>184.000000</td>\n",
       "      <td>8.000000</td>\n",
       "      <td>8.000000</td>\n",
       "      <td>0.0</td>\n",
       "      <td>6.000000</td>\n",
       "      <td>372.000000</td>\n",
       "      <td>1.000000</td>\n",
       "      <td>32.0</td>\n",
       "      <td>4.000000</td>\n",
       "      <td>90.649009</td>\n",
       "      <td>...</td>\n",
       "      <td>0.000000</td>\n",
       "      <td>0.000000</td>\n",
       "      <td>0.000000</td>\n",
       "      <td>1.000000</td>\n",
       "      <td>0.000000</td>\n",
       "      <td>0.000000</td>\n",
       "      <td>1.000000</td>\n",
       "      <td>1.000000</td>\n",
       "      <td>0.000000</td>\n",
       "      <td>0.000000</td>\n",
       "    </tr>\n",
       "    <tr>\n",
       "      <td>max</td>\n",
       "      <td>250.000000</td>\n",
       "      <td>1852.000000</td>\n",
       "      <td>1942.000000</td>\n",
       "      <td>0.0</td>\n",
       "      <td>7.000000</td>\n",
       "      <td>512.000000</td>\n",
       "      <td>1.000000</td>\n",
       "      <td>32.0</td>\n",
       "      <td>4.000000</td>\n",
       "      <td>1677.131987</td>\n",
       "      <td>...</td>\n",
       "      <td>1.000000</td>\n",
       "      <td>1.000000</td>\n",
       "      <td>1.000000</td>\n",
       "      <td>1.000000</td>\n",
       "      <td>1.000000</td>\n",
       "      <td>1.000000</td>\n",
       "      <td>1.000000</td>\n",
       "      <td>1.000000</td>\n",
       "      <td>1.000000</td>\n",
       "      <td>1.000000</td>\n",
       "    </tr>\n",
       "  </tbody>\n",
       "</table>\n",
       "<p>8 rows × 31 columns</p>\n",
       "</div>"
      ],
      "text/plain": [
       "         batchsize  channels_in  channels_out     gpu   kernelsize  \\\n",
       "count  9383.000000  9383.000000   9383.000000  9383.0  9383.000000   \n",
       "mean    121.266652    14.333049     14.535863     0.0     3.978791   \n",
       "std      71.603786    65.871528     64.641642     0.0     2.013088   \n",
       "min       1.000000     1.000000      1.000000     0.0     1.000000   \n",
       "25%      59.000000     2.000000      2.000000     0.0     2.000000   \n",
       "50%     117.000000     4.000000      4.000000     0.0     4.000000   \n",
       "75%     184.000000     8.000000      8.000000     0.0     6.000000   \n",
       "max     250.000000  1852.000000   1942.000000     0.0     7.000000   \n",
       "\n",
       "           matsize      padding  precision      strides  timeUsed_max  ...  \\\n",
       "count  9383.000000  9383.000000     9383.0  9383.000000   9383.000000  ...   \n",
       "mean    245.620271     0.505595       32.0     2.520729     82.986734  ...   \n",
       "std     146.825455     0.499995        0.0     1.109047    152.331398  ...   \n",
       "min       1.000000     0.000000       32.0     1.000000      0.672007  ...   \n",
       "25%     117.000000     0.000000       32.0     2.000000      7.185888  ...   \n",
       "50%     242.000000     1.000000       32.0     3.000000     23.942184  ...   \n",
       "75%     372.000000     1.000000       32.0     4.000000     90.649009  ...   \n",
       "max     512.000000     1.000000       32.0     4.000000   1677.131987  ...   \n",
       "\n",
       "       opt_Adagrad     opt_Adam  opt_Momentum     opt_None  opt_RMSProp  \\\n",
       "count  9383.000000  9383.000000   9383.000000  9383.000000  9383.000000   \n",
       "mean      0.084301     0.078120      0.078973     0.523713     0.076095   \n",
       "std       0.277854     0.268375      0.269710     0.499464     0.265164   \n",
       "min       0.000000     0.000000      0.000000     0.000000     0.000000   \n",
       "25%       0.000000     0.000000      0.000000     0.000000     0.000000   \n",
       "50%       0.000000     0.000000      0.000000     1.000000     0.000000   \n",
       "75%       0.000000     0.000000      0.000000     1.000000     0.000000   \n",
       "max       1.000000     1.000000      1.000000     1.000000     1.000000   \n",
       "\n",
       "           opt_SGD     act_None     act_relu  act_sigmoid     act_tanh  \n",
       "count  9383.000000  9383.000000  9383.000000  9383.000000  9383.000000  \n",
       "mean      0.083769     0.252691     0.253224     0.248961     0.245124  \n",
       "std       0.277055     0.434578     0.434881     0.432434     0.430184  \n",
       "min       0.000000     0.000000     0.000000     0.000000     0.000000  \n",
       "25%       0.000000     0.000000     0.000000     0.000000     0.000000  \n",
       "50%       0.000000     0.000000     0.000000     0.000000     0.000000  \n",
       "75%       0.000000     1.000000     1.000000     0.000000     0.000000  \n",
       "max       1.000000     1.000000     1.000000     1.000000     1.000000  \n",
       "\n",
       "[8 rows x 31 columns]"
      ]
     },
     "execution_count": 7,
     "metadata": {},
     "output_type": "execute_result"
    }
   ],
   "source": [
    "df.describe()"
   ]
  },
  {
   "cell_type": "code",
   "execution_count": 10,
   "metadata": {},
   "outputs": [],
   "source": [
    "data_cols_conv = ['batchsize','elements_matrix','elements_kernel','channels_in','channels_out','padding','strides','use_bias', \n",
    "                      'opt_SGD','opt_Adadelta','opt_Adagrad','opt_Momentum','opt_Adam','opt_RMSProp',\n",
    "                      'act_relu','act_tanh','act_sigmoid',\n",
    "                      'bandwidth','cores','clock']\n",
    "split=[0.8,0.1,.1]"
   ]
  },
  {
   "cell_type": "code",
   "execution_count": 11,
   "metadata": {},
   "outputs": [
    {
     "name": "stderr",
     "output_type": "stream",
     "text": [
      "/home/peter/.local/lib/python3.6/site-packages/pandas/core/indexing.py:1418: FutureWarning: \n",
      "Passing list-likes to .loc or [] with any missing label will raise\n",
      "KeyError in the future, you can use .reindex() as an alternative.\n",
      "\n",
      "See the documentation here:\n",
      "https://pandas.pydata.org/pandas-docs/stable/user_guide/indexing.html#deprecate-loc-reindex-listlike\n",
      "  return self._getitem_tuple(key)\n"
     ]
    },
    {
     "ename": "ValueError",
     "evalue": "operands could not be broadcast together with shapes (9383,20) (17,) (9383,20) ",
     "output_type": "error",
     "traceback": [
      "\u001b[0;31m---------------------------------------------------------------------------\u001b[0m",
      "\u001b[0;31mValueError\u001b[0m                                Traceback (most recent call last)",
      "\u001b[0;32m<ipython-input-11-e44b13f98ed9>\u001b[0m in \u001b[0;36m<module>\u001b[0;34m\u001b[0m\n\u001b[0;32m----> 1\u001b[0;31m \u001b[0mdata\u001b[0m\u001b[0;34m,\u001b[0m \u001b[0mtime\u001b[0m\u001b[0;34m,\u001b[0m \u001b[0mtrain\u001b[0m\u001b[0;34m,\u001b[0m \u001b[0mtest\u001b[0m\u001b[0;34m,\u001b[0m \u001b[0mvalidation\u001b[0m \u001b[0;34m=\u001b[0m \u001b[0mdataprep\u001b[0m\u001b[0;34m.\u001b[0m\u001b[0mdata_preprocess_keep\u001b[0m\u001b[0;34m(\u001b[0m\u001b[0mdf\u001b[0m\u001b[0;34m,\u001b[0m\u001b[0mdata_cols_conv\u001b[0m\u001b[0;34m,\u001b[0m\u001b[0msplit\u001b[0m\u001b[0;34m,\u001b[0m\u001b[0mscaler\u001b[0m\u001b[0;34m)\u001b[0m\u001b[0;34m\u001b[0m\u001b[0;34m\u001b[0m\u001b[0m\n\u001b[0m",
      "\u001b[0;32m/HDD2/ML/ml-performance-prediction/prediction_model/dataprep.py\u001b[0m in \u001b[0;36mdata_preprocess_keep\u001b[0;34m(dataframe, data_cols, split, scaler)\u001b[0m\n\u001b[1;32m     65\u001b[0m     \u001b[0mdf_data\u001b[0m \u001b[0;34m=\u001b[0m \u001b[0mdataframe\u001b[0m\u001b[0;34m.\u001b[0m\u001b[0mloc\u001b[0m\u001b[0;34m[\u001b[0m\u001b[0;34m:\u001b[0m\u001b[0;34m,\u001b[0m\u001b[0mdata_cols\u001b[0m\u001b[0;34m]\u001b[0m\u001b[0;34m\u001b[0m\u001b[0;34m\u001b[0m\u001b[0m\n\u001b[1;32m     66\u001b[0m \u001b[0;34m\u001b[0m\u001b[0m\n\u001b[0;32m---> 67\u001b[0;31m     \u001b[0mdataScale\u001b[0m \u001b[0;34m=\u001b[0m \u001b[0mscaler\u001b[0m\u001b[0;34m.\u001b[0m\u001b[0mtransform\u001b[0m\u001b[0;34m(\u001b[0m\u001b[0mdf_data\u001b[0m\u001b[0;34m.\u001b[0m\u001b[0mvalues\u001b[0m\u001b[0;34m)\u001b[0m\u001b[0;34m\u001b[0m\u001b[0;34m\u001b[0m\u001b[0m\n\u001b[0m\u001b[1;32m     68\u001b[0m \u001b[0;34m\u001b[0m\u001b[0m\n\u001b[1;32m     69\u001b[0m     \u001b[0mdflen\u001b[0m \u001b[0;34m=\u001b[0m \u001b[0mdataScale\u001b[0m\u001b[0;34m.\u001b[0m\u001b[0mshape\u001b[0m\u001b[0;34m[\u001b[0m\u001b[0;36m0\u001b[0m\u001b[0;34m]\u001b[0m\u001b[0;34m\u001b[0m\u001b[0;34m\u001b[0m\u001b[0m\n",
      "\u001b[0;32m~/.local/lib/python3.6/site-packages/sklearn/preprocessing/data.py\u001b[0m in \u001b[0;36mtransform\u001b[0;34m(self, X, copy)\u001b[0m\n\u001b[1;32m    767\u001b[0m         \u001b[0;32melse\u001b[0m\u001b[0;34m:\u001b[0m\u001b[0;34m\u001b[0m\u001b[0;34m\u001b[0m\u001b[0m\n\u001b[1;32m    768\u001b[0m             \u001b[0;32mif\u001b[0m \u001b[0mself\u001b[0m\u001b[0;34m.\u001b[0m\u001b[0mwith_mean\u001b[0m\u001b[0;34m:\u001b[0m\u001b[0;34m\u001b[0m\u001b[0;34m\u001b[0m\u001b[0m\n\u001b[0;32m--> 769\u001b[0;31m                 \u001b[0mX\u001b[0m \u001b[0;34m-=\u001b[0m \u001b[0mself\u001b[0m\u001b[0;34m.\u001b[0m\u001b[0mmean_\u001b[0m\u001b[0;34m\u001b[0m\u001b[0;34m\u001b[0m\u001b[0m\n\u001b[0m\u001b[1;32m    770\u001b[0m             \u001b[0;32mif\u001b[0m \u001b[0mself\u001b[0m\u001b[0;34m.\u001b[0m\u001b[0mwith_std\u001b[0m\u001b[0;34m:\u001b[0m\u001b[0;34m\u001b[0m\u001b[0;34m\u001b[0m\u001b[0m\n\u001b[1;32m    771\u001b[0m                 \u001b[0mX\u001b[0m \u001b[0;34m/=\u001b[0m \u001b[0mself\u001b[0m\u001b[0;34m.\u001b[0m\u001b[0mscale_\u001b[0m\u001b[0;34m\u001b[0m\u001b[0;34m\u001b[0m\u001b[0m\n",
      "\u001b[0;31mValueError\u001b[0m: operands could not be broadcast together with shapes (9383,20) (17,) (9383,20) "
     ]
    }
   ],
   "source": [
    "data, time, train, test, validation = dataprep.data_preprocess_keep(df,data_cols_conv,split,scaler)"
   ]
  },
  {
   "cell_type": "code",
   "execution_count": 10,
   "metadata": {
    "scrolled": false
   },
   "outputs": [
    {
     "name": "stdout",
     "output_type": "stream",
     "text": [
      "INFO:tensorflow:Restoring parameters from /Users/djustus/workspace/newcastle/ml-performance-prediction/prediction_model/models/no_V100/saved_model/variables/variables\n"
     ]
    },
    {
     "data": {
      "image/png": "[encoded data removed]",
      "text/plain": [
       "<matplotlib.figure.Figure at 0x1a2bc84c50>"
      ]
     },
     "metadata": {},
     "output_type": "display_data"
    }
   ],
   "source": [
    "with tf.Session() as sess:\n",
    "    tf.saved_model.loader.load(sess, [\"serve\"], tfmodel_file)\n",
    "    graph = tf.get_default_graph()\n",
    "\n",
    "\n",
    "    run = sess.run(\n",
    "            'model_prediction:0',\n",
    "            feed_dict={'model_input:0': data['Validation'], \n",
    "                       'model_targets:0': time['Validation'],\n",
    "                       'model_istraining:0': False})\n",
    "RMS_validation_error=np.sqrt(np.mean((time['Validation']-run)**2))\n",
    "perc_error = np.mean(np.abs(time['Validation']-run)/time['Validation'])*100\n",
    "\n",
    "fig,ax = plt.subplots(1,1,figsize=[8,8])\n",
    "ax.plot(time['Validation'],run,'.')\n",
    "\n",
    "\n",
    "ax.get_xaxis().set_major_formatter(matplotlib.ticker.ScalarFormatter())\n",
    "ax.get_yaxis().set_major_formatter(matplotlib.ticker.ScalarFormatter())\n",
    "ax.xaxis.set_minor_formatter(plt.NullFormatter())\n",
    "ax.yaxis.set_minor_formatter(plt.NullFormatter())\n",
    "\n",
    "matplotlib.rc('xtick', labelsize=25) \n",
    "matplotlib.rc('ytick', labelsize=25) \n",
    "\n",
    "plt.xlabel('measured time (ms)',fontsize=25)\n",
    "plt.ylabel('predicted time (ms)',fontsize=25)\n",
    "\n",
    "\n",
    "axlim = max(plt.xlim()[1],plt.ylim()[1])\n",
    "\n",
    "\n",
    "#plt.axis('equal')\n",
    "ax.set_xlim(-axlim*.025,axlim*1.025)\n",
    "ax.set_ylim(-axlim*.025,axlim*1.025)\n",
    "\n",
    "plt.tight_layout()\n",
    "ax.ticklabel_format(useOffset=False)\n",
    "ax.plot([0,axlim],[0,axlim],2)\n",
    "\n",
    "#plt.savefig('figures/prediction_%s_from_other.png' %predict, dpi=300)\n",
    "\n",
    "plt.show()"
   ]
  },
  {
   "cell_type": "code",
   "execution_count": 11,
   "metadata": {},
   "outputs": [
    {
     "data": {
      "text/plain": [
       "3.6470957"
      ]
     },
     "execution_count": 11,
     "metadata": {},
     "output_type": "execute_result"
    }
   ],
   "source": [
    "RMS_validation_error"
   ]
  },
  {
   "cell_type": "code",
   "execution_count": 12,
   "metadata": {},
   "outputs": [
    {
     "data": {
      "text/plain": [
       "39.57671523094177"
      ]
     },
     "execution_count": 12,
     "metadata": {},
     "output_type": "execute_result"
    }
   ],
   "source": [
    "perc_error"
   ]
  }
 ],
 "metadata": {
  "kernelspec": {
   "display_name": "Python 3",
   "language": "python",
   "name": "python3"
  },
  "language_info": {
   "codemirror_mode": {
    "name": "ipython",
    "version": 3
   },
   "file_extension": ".py",
   "mimetype": "text/x-python",
   "name": "python",
   "nbconvert_exporter": "python",
   "pygments_lexer": "ipython3",
   "version": "3.6.8"
  },
  "toc": {
   "base_numbering": 1,
   "nav_menu": {},
   "number_sections": true,
   "sideBar": true,
   "skip_h1_title": false,
   "title_cell": "Table of Contents",
   "title_sidebar": "Contents",
   "toc_cell": false,
   "toc_position": {},
   "toc_section_display": true,
   "toc_window_display": true
  }
 },
 "nbformat": 4,
 "nbformat_minor": 2
}
